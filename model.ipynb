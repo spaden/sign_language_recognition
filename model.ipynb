{
 "cells": [
  {
   "cell_type": "code",
   "execution_count": null,
   "id": "7e66fdcb",
   "metadata": {},
   "outputs": [
    {
     "ename": "",
     "evalue": "",
     "output_type": "error",
     "traceback": [
      "\u001b[1;31mRunning cells with 'Python 2.7.18' requires ipykernel package.\n",
      "\u001b[1;31mRun the following command to install 'ipykernel' into the Python environment. \n",
      "\u001b[1;31mCommand: 'conda install -p c:\\Users\\KalyanRuchiPC\\.conda\\envs\\py27 ipykernel --update-deps --force-reinstall'"
     ]
    }
   ],
   "source": [
    "import os\n",
    "import xml.etree.ElementTree as ET\n",
    "import cv2\n",
    "import numpy as np\n",
    "import tensorflow as tf\n",
    "from tensorflow import keras\n",
    "from tensorflow.keras import layers\n",
    "from sklearn.model_selection import train_test_split\n",
    "\n",
    "\n",
    "# Define the path to the folder containing the XML annotation files and images.\n",
    "data_dir = \"/Users/ismail/Desktop/LAMBTON/Semester3/project/Final/images-2/\"\n",
    "\n",
    "# Define the classes or object labels you want to detect.\n",
    "classes = ['eat','friends','help','me','play','thankyou','what','where','who','why','Hello','iloveyou','yes']\n",
    "\n",
    "# Define some constants for image preprocessing.\n",
    "IMAGE_SIZE = (128, 128)\n",
    "BATCH_SIZE = 32\n",
    "\n",
    "# Lists to store image data and corresponding labels.\n",
    "images = []\n",
    "labels = []\n",
    "\n",
    "# Parse XML annotation files and load image data.\n",
    "for xml_file in os.listdir(data_dir):\n",
    "    if xml_file.endswith(\".xml\"):\n",
    "        tree = ET.parse(os.path.join(data_dir, xml_file))\n",
    "        root = tree.getroot()\n",
    "\n",
    "        # Extract image file path from XML.\n",
    "        img_path = os.path.join(data_dir, root.find(\"path\").text)\n",
    "\n",
    "        # Load and preprocess the image.\n",
    "        img = cv2.imread(img_path)\n",
    "        img = cv2.resize(img, IMAGE_SIZE)\n",
    "        img = img / 255.0  # Normalize pixel values to [0, 1]\n",
    "\n",
    "        images.append(img)\n",
    "\n",
    "        # Extract and map class labels.\n",
    "        obj_name = root.find(\"object\").find(\"name\").text\n",
    "        label = classes.index(obj_name)\n",
    "        labels.append(label)\n"
   ]
  },
  {
   "cell_type": "code",
   "execution_count": 20,
   "id": "6e859314",
   "metadata": {},
   "outputs": [],
   "source": [
    "X_train, X_val, y_train, y_val = train_test_split(images, labels, test_size=0.2, random_state=10)"
   ]
  },
  {
   "cell_type": "code",
   "execution_count": 21,
   "id": "2ce3d6aa",
   "metadata": {},
   "outputs": [
    {
     "name": "stdout",
     "output_type": "stream",
     "text": [
      "Epoch 1/20\n",
      "4/4 [==============================] - 2s 371ms/step - loss: 14.2443 - accuracy: 0.1250 - val_loss: 15.7314 - val_accuracy: 0.0333\n",
      "Epoch 2/20\n",
      "4/4 [==============================] - 1s 286ms/step - loss: 11.8409 - accuracy: 0.0583 - val_loss: 10.9085 - val_accuracy: 0.1000\n",
      "Epoch 3/20\n",
      "4/4 [==============================] - 1s 304ms/step - loss: 6.0792 - accuracy: 0.1917 - val_loss: 4.4472 - val_accuracy: 0.1333\n",
      "Epoch 4/20\n",
      "4/4 [==============================] - 1s 299ms/step - loss: 3.5698 - accuracy: 0.3500 - val_loss: 2.7374 - val_accuracy: 0.2000\n",
      "Epoch 5/20\n",
      "4/4 [==============================] - 1s 313ms/step - loss: 1.9525 - accuracy: 0.4083 - val_loss: 2.1461 - val_accuracy: 0.2333\n",
      "Epoch 6/20\n",
      "4/4 [==============================] - 1s 342ms/step - loss: 1.6120 - accuracy: 0.6167 - val_loss: 1.9627 - val_accuracy: 0.3333\n",
      "Epoch 7/20\n",
      "4/4 [==============================] - 2s 416ms/step - loss: 1.3350 - accuracy: 0.6667 - val_loss: 1.6853 - val_accuracy: 0.3333\n",
      "Epoch 8/20\n",
      "4/4 [==============================] - 1s 363ms/step - loss: 1.1854 - accuracy: 0.6750 - val_loss: 1.6495 - val_accuracy: 0.5333\n",
      "Epoch 9/20\n",
      "4/4 [==============================] - 1s 347ms/step - loss: 1.0036 - accuracy: 0.7333 - val_loss: 1.5468 - val_accuracy: 0.3333\n",
      "Epoch 10/20\n",
      "4/4 [==============================] - 2s 396ms/step - loss: 0.9205 - accuracy: 0.6750 - val_loss: 1.4346 - val_accuracy: 0.5333\n",
      "Epoch 11/20\n",
      "4/4 [==============================] - 1s 349ms/step - loss: 0.8208 - accuracy: 0.7000 - val_loss: 1.2461 - val_accuracy: 0.3333\n",
      "Epoch 12/20\n",
      "4/4 [==============================] - 1s 290ms/step - loss: 0.7567 - accuracy: 0.6917 - val_loss: 1.1522 - val_accuracy: 0.5333\n",
      "Epoch 13/20\n",
      "4/4 [==============================] - 1s 284ms/step - loss: 0.6921 - accuracy: 0.7417 - val_loss: 1.0724 - val_accuracy: 0.6333\n",
      "Epoch 14/20\n",
      "4/4 [==============================] - 1s 327ms/step - loss: 0.6522 - accuracy: 0.7667 - val_loss: 1.0134 - val_accuracy: 0.5333\n",
      "Epoch 15/20\n",
      "4/4 [==============================] - 1s 333ms/step - loss: 0.6174 - accuracy: 0.7417 - val_loss: 1.0078 - val_accuracy: 0.5333\n",
      "Epoch 16/20\n",
      "4/4 [==============================] - 1s 312ms/step - loss: 0.5980 - accuracy: 0.7750 - val_loss: 0.9035 - val_accuracy: 0.8000\n",
      "Epoch 17/20\n",
      "4/4 [==============================] - 1s 319ms/step - loss: 0.5655 - accuracy: 0.7833 - val_loss: 0.8610 - val_accuracy: 0.8000\n",
      "Epoch 18/20\n",
      "4/4 [==============================] - 1s 330ms/step - loss: 0.5400 - accuracy: 0.8000 - val_loss: 0.8161 - val_accuracy: 0.8000\n",
      "Epoch 19/20\n",
      "4/4 [==============================] - 1s 373ms/step - loss: 0.5144 - accuracy: 0.8000 - val_loss: 0.7637 - val_accuracy: 0.8333\n",
      "Epoch 20/20\n",
      "4/4 [==============================] - 1s 310ms/step - loss: 0.4931 - accuracy: 0.8000 - val_loss: 0.7086 - val_accuracy: 0.8000\n"
     ]
    },
    {
     "data": {
      "text/plain": [
       "<keras.callbacks.History at 0x7f9d3681fe50>"
      ]
     },
     "execution_count": 21,
     "metadata": {},
     "output_type": "execute_result"
    }
   ],
   "source": [
    "# Create a CNN model.\n",
    "model = keras.Sequential([\n",
    "    layers.Conv2D(32, (3, 3), activation='relu', input_shape=(*IMAGE_SIZE, 3)),\n",
    "    layers.MaxPooling2D((2, 2)),\n",
    "    layers.Flatten(),\n",
    "    layers.Dense(64, activation='relu'),\n",
    "    layers.Dense(len(classes), activation='softmax')\n",
    "])\n",
    "\n",
    "# Compile the model.\n",
    "model.compile(optimizer='adam', loss='sparse_categorical_crossentropy', metrics=['accuracy'])\n",
    "\n",
    "# Train the model.\n",
    "model.fit(np.array(X_train), np.array(y_train), epochs=20, batch_size=BATCH_SIZE, validation_data=(np.array(X_val), np.array(y_val)))\n",
    "\n"
   ]
  },
  {
   "cell_type": "code",
   "execution_count": 22,
   "id": "e065d28f",
   "metadata": {},
   "outputs": [],
   "source": [
    "model.save(\"104labels.h5\")"
   ]
  },
  {
   "cell_type": "code",
   "execution_count": 27,
   "id": "7e35b12e",
   "metadata": {},
   "outputs": [
    {
     "name": "stdout",
     "output_type": "stream",
     "text": [
      "WARNING:tensorflow:6 out of the last 6 calls to <function Model.make_predict_function.<locals>.predict_function at 0x7f9d1850de50> triggered tf.function retracing. Tracing is expensive and the excessive number of tracings could be due to (1) creating @tf.function repeatedly in a loop, (2) passing tensors with different shapes, (3) passing Python objects instead of tensors. For (1), please define your @tf.function outside of the loop. For (2), @tf.function has reduce_retracing=True option that can avoid unnecessary retracing. For (3), please refer to https://www.tensorflow.org/guide/function#controlling_retracing and https://www.tensorflow.org/api_docs/python/tf/function for  more details.\n",
      "1/1 [==============================] - 0s 84ms/step\n",
      "[[1.4176017e-03 1.8991564e-03 2.9800987e-07 6.9061317e-03 6.2892491e-07\n",
      "  7.7704614e-04 9.6538550e-01 3.4470166e-05 2.2824025e-02 7.4119185e-04\n",
      "  1.2577041e-06 2.3008593e-09 1.2664356e-05]]\n",
      "6\n",
      "The model predicts the image contains: what\n"
     ]
    }
   ],
   "source": [
    "import cv2\n",
    "import numpy as np\n",
    "from tensorflow import keras\n",
    "\n",
    "# Load the trained model.\n",
    "model = keras.models.load_model(\"104labels.h5\")\n",
    "\n",
    "# Load and preprocess the test image.\n",
    "test_image_path = \"/Users/ismail/Desktop/LAMBTON/Semester3/project/Final/images-2/what_14.jpg\"\n",
    "IMAGE_SIZE = (128, 128)\n",
    "\n",
    "img = cv2.imread(test_image_path)\n",
    "img = cv2.resize(img, IMAGE_SIZE)\n",
    "img = img / 255.0  # Normalize pixel values to [0, 1]\n",
    "\n",
    "# Reshape the image to match the model's input shape.\n",
    "input_image = np.expand_dims(img, axis=0)\n",
    "\n",
    "# Make predictions with the model.\n",
    "predictions = model.predict(input_image)\n",
    "\n",
    "print(predictions)\n",
    "# Interpret the model's predictions.\n",
    "predicted_class_index = np.argmax(predictions)\n",
    "print(predicted_class_index)\n",
    "predicted_class = classes[predicted_class_index]  # Map index to class label\n",
    "\n",
    "print(f\"The model predicts the image contains: {predicted_class}\")\n"
   ]
  },
  {
   "cell_type": "code",
   "execution_count": 17,
   "id": "f3a4d3bf",
   "metadata": {},
   "outputs": [
    {
     "data": {
      "text/plain": [
       "['eat',\n",
       " 'friends',\n",
       " 'help',\n",
       " 'me',\n",
       " 'play',\n",
       " 'thankyou',\n",
       " 'what',\n",
       " 'where',\n",
       " 'who',\n",
       " 'why']"
      ]
     },
     "execution_count": 17,
     "metadata": {},
     "output_type": "execute_result"
    }
   ],
   "source": [
    "classes"
   ]
  }
 ],
 "metadata": {
  "kernelspec": {
   "display_name": "Python 2.7.18",
   "language": "python",
   "name": "python3"
  },
  "language_info": {
   "codemirror_mode": {
    "name": "ipython",
    "version": 3
   },
   "file_extension": ".py",
   "mimetype": "text/x-python",
   "name": "python",
   "nbconvert_exporter": "python",
   "pygments_lexer": "ipython3",
   "version": "2.7.18"
  },
  "vscode": {
   "interpreter": {
    "hash": "d6d84eb74f7e9bd095b90a4eec03feeab0d0b7d32f96e33cb57250188fc3cf57"
   }
  }
 },
 "nbformat": 4,
 "nbformat_minor": 5
}
